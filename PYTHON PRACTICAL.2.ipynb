{
  "nbformat": 4,
  "nbformat_minor": 0,
  "metadata": {
    "colab": {
      "name": "Untitled0.ipynb",
      "provenance": []
    },
    "kernelspec": {
      "name": "python3",
      "display_name": "Python 3"
    },
    "language_info": {
      "name": "python"
    }
  },
  "cells": [
    {
      "cell_type": "markdown",
      "source": [
        "2] write a program to demonstrate different data types in python."
      ],
      "metadata": {
        "id": "z0uiLvCyiqHq"
      }
    },
    {
      "cell_type": "code",
      "execution_count": 2,
      "metadata": {
        "colab": {
          "base_uri": "https://localhost:8080/"
        },
        "id": "lsHslydQinuj",
        "outputId": "06d51ad0-31ff-49a3-ddde-2020f16a79d0"
      },
      "outputs": [
        {
          "output_type": "stream",
          "name": "stdout",
          "text": [
            "<class 'str'>\n",
            "<class 'int'>\n",
            "<class 'list'>\n",
            "<class 'dict'>\n",
            "<class 'int'>\n",
            "<class 'float'>\n",
            "<class 'complex'>\n"
          ]
        }
      ],
      "source": [
        "a = \"Sarang Patil\"\n",
        "b = 30\n",
        "c = [\"cricket\", \"football\", \"hockey\"]\n",
        "d = {\"flower\" : \"rose\", \"quantity\" : 36}\n",
        "e = 40\n",
        "f = 14.5\n",
        "g = 3j\n",
        "print(type(a))\n",
        "print(type(b))\n",
        "print(type(c))\n",
        "print(type(d))\n",
        "print(type(e))\n",
        "print(type(f))\n",
        "print(type(g))"
      ]
    }
  ]
}