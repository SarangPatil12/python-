{
  "nbformat": 4,
  "nbformat_minor": 0,
  "metadata": {
    "colab": {
      "name": "Untitled3.ipynb",
      "provenance": []
    },
    "kernelspec": {
      "name": "python3",
      "display_name": "Python 3"
    },
    "language_info": {
      "name": "python"
    }
  },
  "cells": [
    {
      "cell_type": "markdown",
      "source": [
        "4] Write a program to create, concatenate, and print a string and accessing sub-string from given string."
      ],
      "metadata": {
        "id": "6V5kE5XXxScv"
      }
    },
    {
      "cell_type": "markdown",
      "source": [
        "4] Write a program to create, concatenate and print a string and accessing sub-string from a given string"
      ],
      "metadata": {
        "id": "5oCkrJ6Bykb9"
      }
    },
    {
      "cell_type": "code",
      "execution_count": 3,
      "metadata": {
        "id": "E8gog7YbxMa0",
        "colab": {
          "base_uri": "https://localhost:8080/"
        },
        "outputId": "cbae697e-6382-49fb-a1a6-34c3d6dc6fa2"
      },
      "outputs": [
        {
          "output_type": "stream",
          "name": "stdout",
          "text": [
            "Enter first String : python\n",
            "Enter second String : programming\n",
            "First string is :  python\n",
            "Second string is :  programming\n",
            "concatenations of two strings : pythonprogramming\n",
            "Substring of given string : yth\n"
          ]
        }
      ],
      "source": [
        "s1=input(\"Enter first String : \");\n",
        "s2=input(\"Enter second String : \");\n",
        "print(\"First string is : \",s1);\n",
        "print(\"Second string is : \",s2);\n",
        "print(\"concatenations of two strings :\",s1+s2);\n",
        "print(\"Substring of given string :\",s1[1:4]);"
      ]
    }
  ]
}