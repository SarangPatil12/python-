{
  "nbformat": 4,
  "nbformat_minor": 0,
  "metadata": {
    "colab": {
      "name": "Untitled4.ipynb",
      "provenance": []
    },
    "kernelspec": {
      "name": "python3",
      "display_name": "Python 3"
    },
    "language_info": {
      "name": "python"
    }
  },
  "cells": [
    {
      "cell_type": "markdown",
      "source": [
        "5] Write a program to create, append, and remove lists in python."
      ],
      "metadata": {
        "id": "6daP0ph-4hHR"
      }
    },
    {
      "cell_type": "code",
      "execution_count": 8,
      "metadata": {
        "colab": {
          "base_uri": "https://localhost:8080/"
        },
        "id": "T6gcc7wV1MOd",
        "outputId": "8546fd41-ec56-407a-a08f-91525b4364fc"
      },
      "outputs": [
        {
          "output_type": "stream",
          "name": "stdout",
          "text": [
            "flower are : ['rose', 'lily', 'tulip', 'orchid', 'sunflower']\n",
            "fruits are : ['mango', 'banana', 'orange', 'grapes', 'orange']\n",
            "flowerfruits are : ['rose', 'lily', 'tulip', 'orchid', 'sunflower', 'mango', 'banana', 'orange', 'grapes', 'orange']\n",
            "updated fruits are : ['mango', 'orange', 'grapes', 'orange']\n"
          ]
        }
      ],
      "source": [
        "flower = ['rose', 'lily', 'tulip', 'orchid', 'sunflower']\n",
        "fruits = ['mango','banana','orange','grapes','orange']\n",
        "print(\"flower are :\",flower)\n",
        "print(\"fruits are :\",fruits)\n",
        "flowerfruits = flower+fruits\n",
        "print(\"flowerfruits are :\",flowerfruits)\n",
        "fruits.remove(\"banana\")\n",
        "print(\"updated fruits are :\",fruits) "
      ]
    }
  ]
}